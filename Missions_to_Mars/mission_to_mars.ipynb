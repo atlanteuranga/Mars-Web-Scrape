{
 "cells": [
  {
   "cell_type": "code",
   "execution_count": 1,
   "id": "f8d03789",
   "metadata": {},
   "outputs": [],
   "source": [
    "from bs4 import BeautifulSoup as bs\n",
    "import splinter\n",
    "from splinter import Browser\n",
    "import requests\n",
    "from pprint import pprint\n",
    "from webdriver_manager.chrome import ChromeDriverManager\n",
    "import pandas as pd"
   ]
  },
  {
   "cell_type": "code",
   "execution_count": 2,
   "id": "10e0f45a",
   "metadata": {},
   "outputs": [
    {
     "name": "stderr",
     "output_type": "stream",
     "text": [
      "\n",
      "\n",
      "====== WebDriver manager ======\n",
      "Current google-chrome version is 99.0.4844\n",
      "Get LATEST chromedriver version for 99.0.4844 google-chrome\n",
      "Driver [/Users/atlanteuranga/.wdm/drivers/chromedriver/mac64/99.0.4844.51/chromedriver] found in cache\n"
     ]
    }
   ],
   "source": [
    "executable_path = {'executable_path': ChromeDriverManager().install()}\n",
    "browser = Browser('chrome', **executable_path, headless=False)"
   ]
  },
  {
   "cell_type": "code",
   "execution_count": 3,
   "id": "d2bfff32",
   "metadata": {},
   "outputs": [
    {
     "data": {
      "text/plain": [
       "'A new study based on recordings made by the rover finds that the speed of sound is slower on the Red Planet than on Earth and that, mostly, a deep silence prevails. \\u200b'"
      ]
     },
     "execution_count": 3,
     "metadata": {},
     "output_type": "execute_result"
    }
   ],
   "source": [
    "url = \"https://mars.nasa.gov/news/\"\n",
    "browser.visit(url)\n",
    "html = browser.html\n",
    "soup = bs(html, 'html.parser')\n",
    "\n",
    "titles = soup.find('div', class_ = 'list_text')\n",
    "news_title = titles.a.text\n",
    "news_body = soup.find('div', class_ = 'article_teaser_body').text\n",
    "news_body"
   ]
  },
  {
   "cell_type": "code",
   "execution_count": 4,
   "id": "be6b7f2b",
   "metadata": {},
   "outputs": [
    {
     "data": {
      "text/plain": [
       "'https://spaceimages-mars.com/image/featured/mars2.jpg'"
      ]
     },
     "execution_count": 4,
     "metadata": {},
     "output_type": "execute_result"
    }
   ],
   "source": [
    "url = \"https://spaceimages-mars.com/\"\n",
    "browser.visit(url)\n",
    "html = browser.html\n",
    "soup = bs(html, 'html.parser')\n",
    "\n",
    "img = soup.find('img', class_ = 'headerimage fade-in')\n",
    "img_url = url + img['src']\n",
    "img_url"
   ]
  },
  {
   "cell_type": "code",
   "execution_count": 5,
   "id": "30a774b3",
   "metadata": {},
   "outputs": [
    {
     "name": "stdout",
     "output_type": "stream",
     "text": [
      "['Diameter:', 'Mass:', 'Moons:', 'Distance from Sun:', 'Length of Year:', 'Temperature:']\n",
      "['6,779 km', '6.39 × 10^23 kg ', '2', '227,943,824 km', '687 Earth days', '-87 to -5 °C']\n"
     ]
    }
   ],
   "source": [
    "url = \"https://galaxyfacts-mars.com/\"\n",
    "browser.visit(url)\n",
    "html = browser.html\n",
    "soup = bs(html, 'html.parser')\n",
    "\n",
    "table_headers = soup.find_all('th')\n",
    "table_data = soup.find_all('span', class_='orange')\n",
    "table_data\n",
    "headers = []\n",
    "datas = []\n",
    "for i in range(6):\n",
    "    headers.append(table_headers[i+1].text)\n",
    "    datas.append(table_data[i+3].text)\n",
    "print(headers)\n",
    "print(datas)\n"
   ]
  },
  {
   "cell_type": "code",
   "execution_count": 6,
   "id": "7998834b",
   "metadata": {},
   "outputs": [],
   "source": [
    "dict = {\"Description\": headers, \"Values\": datas}\n",
    "mars_df = pd.DataFrame(dict)\n",
    "mars_df.to_html('mars_df.html', index = False)\n"
   ]
  },
  {
   "cell_type": "code",
   "execution_count": 23,
   "id": "f554d27e",
   "metadata": {},
   "outputs": [
    {
     "data": {
      "text/plain": [
       "[{'Cerberus Hemisphere Enhanced': 'https://marshemispheres.com/images/f5e372a36edfa389625da6d0cc25d905_cerberus_enhanced.tif_full.jpg'},\n",
       " {'Schiaparelli Hemisphere Enhanced': 'https://marshemispheres.com/images/3778f7b43bbbc89d6e3cfabb3613ba93_schiaparelli_enhanced.tif_full.jpg'},\n",
       " {'Syrtis Major Hemisphere Enhanced': 'https://marshemispheres.com/images/555e6403a6ddd7ba16ddb0e471cadcf7_syrtis_major_enhanced.tif_full.jpg'},\n",
       " {'Valles Marineris Hemisphere Enhanced': 'https://marshemispheres.com/images/b3c7c6c9138f57b4756be9b9c43e3a48_valles_marineris_enhanced.tif_full.jpg'}]"
      ]
     },
     "execution_count": 23,
     "metadata": {},
     "output_type": "execute_result"
    }
   ],
   "source": [
    "url_ = \"https://marshemispheres.com/\"\n",
    "browser.visit(url_)\n",
    "\n",
    "hemispheres = ['Cerberus', 'Schiaparelli', 'Syrtis', \"Valles\"]\n",
    "hemi_dict = {}\n",
    "hemi_list = []\n",
    "for hemi in hemispheres:\n",
    "    \n",
    "    browser.links.find_by_partial_text(hemi).click()\n",
    "    html = browser.html\n",
    "    soup = bs(html, 'html.parser')\n",
    "    img_url = url_ + soup.find('img', class_='wide-image')['src']\n",
    "\n",
    "    \n",
    "    title = soup.find('h2', class_='title')\n",
    "    hemi_dict = {title.text:img_url}\n",
    "    hemi_list.append(hemi_dict)\n",
    "    hemi_dict = {}\n",
    "    browser.visit(url_)\n",
    "hemi_list"
   ]
  },
  {
   "cell_type": "code",
   "execution_count": null,
   "id": "f85ee06c",
   "metadata": {},
   "outputs": [],
   "source": []
  }
 ],
 "metadata": {
  "kernelspec": {
   "display_name": "Python 3 (ipykernel)",
   "language": "python",
   "name": "python3"
  },
  "language_info": {
   "codemirror_mode": {
    "name": "ipython",
    "version": 3
   },
   "file_extension": ".py",
   "mimetype": "text/x-python",
   "name": "python",
   "nbconvert_exporter": "python",
   "pygments_lexer": "ipython3",
   "version": "3.9.7"
  }
 },
 "nbformat": 4,
 "nbformat_minor": 5
}
